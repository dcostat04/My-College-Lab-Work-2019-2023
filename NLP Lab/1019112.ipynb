{
 "cells": [
  {
   "cell_type": "markdown",
   "metadata": {
    "id": "-4xqwILHN0Hy"
   },
   "source": [
    "# Wordnet"
   ]
  },
  {
   "cell_type": "code",
   "execution_count": 1,
   "metadata": {
    "colab": {
     "base_uri": "https://localhost:8080/"
    },
    "executionInfo": {
     "elapsed": 1365,
     "status": "ok",
     "timestamp": 1662686942649,
     "user": {
      "displayName": "Amroz Siddiqui",
      "userId": "05032953002561570838"
     },
     "user_tz": -330
    },
    "id": "s-k6RF3pNySa",
    "outputId": "f3346cde-d60b-43db-fef8-0790ff87252f"
   },
   "outputs": [
    {
     "name": "stderr",
     "output_type": "stream",
     "text": [
      "[nltk_data] Downloading package wordnet to /home/shreya/nltk_data...\n"
     ]
    },
    {
     "data": {
      "text/plain": [
       "True"
      ]
     },
     "execution_count": 1,
     "metadata": {},
     "output_type": "execute_result"
    }
   ],
   "source": [
    "import nltk\n",
    "nltk.download('wordnet')"
   ]
  },
  {
   "cell_type": "code",
   "execution_count": 2,
   "metadata": {
    "id": "l50LkNXGOBDN"
   },
   "outputs": [],
   "source": [
    "from nltk.corpus import wordnet as wn"
   ]
  },
  {
   "cell_type": "code",
   "execution_count": 3,
   "metadata": {
    "id": "bqx9D4-53hNu"
   },
   "outputs": [
    {
     "name": "stderr",
     "output_type": "stream",
     "text": [
      "[nltk_data] Downloading package omw-1.4 to /home/shreya/nltk_data...\n"
     ]
    },
    {
     "data": {
      "text/plain": [
       "True"
      ]
     },
     "execution_count": 3,
     "metadata": {},
     "output_type": "execute_result"
    }
   ],
   "source": [
    "nltk.download('omw-1.4')"
   ]
  },
  {
   "cell_type": "markdown",
   "metadata": {
    "id": "fSM9D1qKSiQn"
   },
   "source": [
    "### Glosses"
   ]
  },
  {
   "cell_type": "code",
   "execution_count": 4,
   "metadata": {
    "id": "_XlQxWRa3YhL"
   },
   "outputs": [
    {
     "name": "stdout",
     "output_type": "stream",
     "text": [
      "Synset('liver.n.01') large and complicated reddish-brown glandular organ located in the upper right portion of the abdominal cavity; secretes bile and functions in metabolism of protein and carbohydrate and fat; synthesizes substances involved in the clotting of the blood; synthesizes vitamin A; detoxifies poisonous substances and breaks down worn-out erythrocytes\n",
      "Synset('liver.n.02') liver of an animal used as meat\n",
      "Synset('liver.n.03') a person who has a special life style\n",
      "Synset('liver.n.04') someone who lives in a place\n",
      "Synset('liver-colored.s.01') having a reddish-brown color\n"
     ]
    }
   ],
   "source": [
    "for ss in wn.synsets('liver'):\n",
    "  print(ss, ss.definition())"
   ]
  },
  {
   "cell_type": "code",
   "execution_count": 5,
   "metadata": {
    "id": "myu9kbrMOGD7"
   },
   "outputs": [
    {
     "name": "stdout",
     "output_type": "stream",
     "text": [
      "Synset('mouse.n.01') any of numerous small rodents typically resembling diminutive rats having pointed snouts and small ears on elongated bodies with slender usually hairless tails\n",
      "Synset('shiner.n.01') a swollen bruise caused by a blow to the eye\n",
      "Synset('mouse.n.03') person who is quiet or timid\n",
      "Synset('mouse.n.04') a hand-operated electronic device that controls the coordinates of a cursor on your computer screen as you move it around on a pad; on the bottom of the device is a ball that rolls on the surface of the pad\n",
      "Synset('sneak.v.01') to go stealthily or furtively\n",
      "Synset('mouse.v.02') manipulate the mouse of a computer\n"
     ]
    }
   ],
   "source": [
    "for ss in wn.synsets('mouse'):\n",
    "  print(ss, ss.definition())"
   ]
  },
  {
   "cell_type": "code",
   "execution_count": 6,
   "metadata": {},
   "outputs": [
    {
     "name": "stdout",
     "output_type": "stream",
     "text": [
      "Synset('rose.n.01') any of many shrubs of the genus Rosa that bear roses\n",
      "Synset('blush_wine.n.01') pinkish table wine from red grapes whose skins were removed after fermentation began\n",
      "Synset('rose.n.03') a dusty pink color\n",
      "Synset('rise.v.01') move upward\n",
      "Synset('rise.v.02') increase in value or to a higher point\n",
      "Synset('arise.v.03') rise to one's feet\n",
      "Synset('rise.v.04') rise up\n",
      "Synset('surface.v.01') come to the surface\n",
      "Synset('originate.v.01') come into existence; take on form or shape\n",
      "Synset('ascend.v.08') move to a better position in life or to a better job; \"She ascended from a life of poverty to one of great\n",
      "Synset('wax.v.02') go up or advance\n",
      "Synset('heighten.v.01') become more extreme\n",
      "Synset('get_up.v.02') get up and out of bed\n",
      "Synset('rise.v.11') rise in rank or status\n",
      "Synset('rise.v.12') become heartened or elated\n",
      "Synset('rise.v.13') exert oneself to meet a challenge\n",
      "Synset('rebel.v.01') take part in a rebellion; renounce a former allegiance\n",
      "Synset('rise.v.15') increase in volume\n",
      "Synset('rise.v.16') come up, of celestial bodies\n",
      "Synset('resurrect.v.03') return from the dead\n",
      "Synset('rose.s.01') of something having a dusty purplish pink color\n"
     ]
    }
   ],
   "source": [
    "for ss in wn.synsets('rose'):\n",
    "  print(ss, ss.definition())"
   ]
  },
  {
   "cell_type": "code",
   "execution_count": 7,
   "metadata": {},
   "outputs": [
    {
     "name": "stdout",
     "output_type": "stream",
     "text": [
      "Synset('duck.n.01') small wild or domesticated web-footed broad-billed swimming bird usually having a depressed body and short legs\n",
      "Synset('duck.n.02') (cricket) a score of nothing by a batsman\n",
      "Synset('duck.n.03') flesh of a duck (domestic or wild)\n",
      "Synset('duck.n.04') a heavy cotton fabric of plain weave; used for clothing and tents\n",
      "Synset('duck.v.01') to move (the head or body) quickly downwards or away\n",
      "Synset('duck.v.02') submerge or plunge suddenly\n",
      "Synset('dip.v.10') dip into a liquid\n",
      "Synset('hedge.v.01') avoid or try to avoid fulfilling, answering, or performing (duties, questions, or issues)\n"
     ]
    }
   ],
   "source": [
    "for ss in wn.synsets('duck'):\n",
    "  print(ss, ss.definition())"
   ]
  },
  {
   "cell_type": "code",
   "execution_count": 8,
   "metadata": {},
   "outputs": [
    {
     "name": "stdout",
     "output_type": "stream",
     "text": [
      "Synset('lie.n.01') a statement that deviates from or perverts the truth\n",
      "Synset('lie.n.02') Norwegian diplomat who was the first Secretary General of the United Nations (1896-1968)\n",
      "Synset('lie.n.03') position or manner in which something is situated\n",
      "Synset('lie.v.01') be located or situated somewhere; occupy a certain position\n",
      "Synset('lie.v.02') be lying, be prostrate; be in a horizontal position\n",
      "Synset('dwell.v.02') originate (in)\n",
      "Synset('lie.v.04') be and remain in a particular state or condition\n",
      "Synset('lie.v.05') tell an untruth; pretend with intent to deceive\n",
      "Synset('lie.v.06') have a place in relation to something else\n",
      "Synset('lie_down.v.01') assume a reclining position\n"
     ]
    }
   ],
   "source": [
    "for ss in wn.synsets('lie'):\n",
    "  print(ss, ss.definition())"
   ]
  },
  {
   "cell_type": "code",
   "execution_count": 9,
   "metadata": {},
   "outputs": [
    {
     "name": "stdout",
     "output_type": "stream",
     "text": [
      "Synset('play.n.01') a dramatic work intended for performance by actors on a stage\n",
      "Synset('play.n.02') a theatrical performance of a drama\n",
      "Synset('play.n.03') a preset plan of action in team sports\n",
      "Synset('maneuver.n.03') a deliberate coordinated movement requiring dexterity and skill\n",
      "Synset('play.n.05') a state in which action is feasible\n",
      "Synset('play.n.06') utilization or exercise\n",
      "Synset('bid.n.02') an attempt to get something\n",
      "Synset('play.n.08') activity by children that is guided more by imagination than by fixed rules\n",
      "Synset('playing_period.n.01') (in games or plays or other performances) the time during which play proceeds\n",
      "Synset('free_rein.n.01') the removal of constraints\n",
      "Synset('shimmer.n.01') a weak and tremulous light\n",
      "Synset('fun.n.02') verbal wit or mockery (often at another's expense but not to be taken seriously)\n",
      "Synset('looseness.n.05') movement or space for movement\n",
      "Synset('play.n.14') gay or light-hearted recreational activity for diversion or amusement\n",
      "Synset('turn.n.03') (game) the activity of doing something in an agreed succession\n",
      "Synset('gambling.n.01') the act of playing for stakes in the hope of winning (including the payment of a price for a chance to win a prize)\n",
      "Synset('play.n.17') the act using a sword (or other weapon) vigorously and skillfully\n",
      "Synset('play.v.01') participate in games or sport\n",
      "Synset('play.v.02') act or have an effect in a specified way or with a specific effect or outcome\n",
      "Synset('play.v.03') play on an instrument\n",
      "Synset('act.v.03') play a role or part\n",
      "Synset('play.v.05') be at play; be engaged in playful activity; amuse oneself in a way characteristic of children\n",
      "Synset('play.v.06') replay (as a melody)\n",
      "Synset('play.v.07') perform music on (a musical instrument)\n",
      "Synset('act.v.05') pretend to have certain qualities or state of mind\n",
      "Synset('play.v.09') move or seem to move quickly, lightly, or irregularly\n",
      "Synset('play.v.10') bet or wager (money)\n",
      "Synset('play.v.11') engage in recreational activities rather than work; occupy oneself in a diversion\n",
      "Synset('play.v.12') pretend to be somebody in the framework of a game or playful activity\n",
      "Synset('play.v.13') emit recorded sound\n",
      "Synset('play.v.14') perform on a certain location\n",
      "Synset('play.v.15') put (a card or piece) into play during a game, or act strategically as if in a card game\n",
      "Synset('play.v.16') engage in an activity as if it were a game rather than take it seriously\n",
      "Synset('play.v.17') behave in a certain way\n",
      "Synset('play.v.18') cause to emit recorded audio or video\n",
      "Synset('toy.v.02') manipulate manually or in one's mind or imagination\n",
      "Synset('play.v.20') use to one's advantage\n",
      "Synset('dally.v.04') consider not very seriously\n",
      "Synset('play.v.22') be received or accepted or interpreted in a specific way\n",
      "Synset('dally.v.01') behave carelessly or indifferently\n",
      "Synset('play.v.24') cause to move or operate freely within a bounded space\n",
      "Synset('act.v.10') perform on a stage or theater\n",
      "Synset('play.v.26') be performed or presented for public viewing\n",
      "Synset('bring.v.03') cause to happen or to occur as a consequence\n",
      "Synset('play.v.28') discharge or direct or be discharged or directed as if in a continuous stream\n",
      "Synset('play.v.29') make bets\n",
      "Synset('bet.v.02') stake on the outcome of an issue\n",
      "Synset('play.v.31') shoot or hit in a particular manner\n",
      "Synset('play.v.32') use or move\n",
      "Synset('play.v.33') employ in a game or in a specific position\n",
      "Synset('meet.v.10') contend against an opponent in a sport, game, or battle\n",
      "Synset('play.v.35') exhaust by allowing to pull on the line\n"
     ]
    }
   ],
   "source": [
    "for ss in wn.synsets('play'):\n",
    "  print(ss, ss.definition())"
   ]
  },
  {
   "cell_type": "code",
   "execution_count": 10,
   "metadata": {},
   "outputs": [
    {
     "name": "stdout",
     "output_type": "stream",
     "text": [
      "Synset('scale.n.01') an ordered reference standard\n",
      "Synset('scale.n.02') relative magnitude\n",
      "Synset('scale.n.03') the ratio between the size of something and a representation of it\n",
      "Synset('scale.n.04') a specialized leaf or bract that protects a bud or catkin\n",
      "Synset('scale.n.05') a thin flake of dead epidermis shed from the surface of the skin\n",
      "Synset('scale.n.06') (music) a series of notes differing in pitch according to a specific scheme (usually within an octave)\n",
      "Synset('scale.n.07') a measuring instrument for weighing; shows amount of mass\n",
      "Synset('scale.n.08') an indicator having a graduated sequence of marks\n",
      "Synset('plate.n.14') a metal sheathing of uniform thickness (such as the shield attached to an artillery piece to protect the gunners)\n",
      "Synset('scale.n.10') a flattened rigid plate forming part of the body covering of many animals\n",
      "Synset('scale.v.01') measure by or as if by a scale\n",
      "Synset('scale.v.02') pattern, make, regulate, set, measure, or estimate according to some rate or standard\n",
      "Synset('scale.v.03') take by attacking with scaling ladders\n",
      "Synset('scale.v.04') reach the highest point of\n",
      "Synset('scale.v.05') climb up by means of a ladder\n",
      "Synset('scale.v.06') remove the scales from\n",
      "Synset('scale.v.07') measure with or as if with scales\n",
      "Synset('scale.v.08') size or measure according to a scale\n"
     ]
    }
   ],
   "source": [
    "for ss in wn.synsets('scale'):\n",
    "  print(ss, ss.definition())"
   ]
  },
  {
   "cell_type": "code",
   "execution_count": 11,
   "metadata": {},
   "outputs": [
    {
     "name": "stdout",
     "output_type": "stream",
     "text": [
      "Synset('fly.n.01') two-winged insects characterized by active flight\n",
      "Synset('tent-fly.n.01') flap consisting of a piece of canvas that can be drawn back to provide entrance to a tent\n",
      "Synset('fly.n.03') an opening in a garment that is closed by a zipper or by buttons concealed under a fold of cloth\n",
      "Synset('fly.n.04') (baseball) a hit that flies up in the air\n",
      "Synset('fly.n.05') fisherman's lure consisting of a fishhook decorated to look like an insect\n",
      "Synset('fly.v.01') travel through the air; be airborne\n",
      "Synset('fly.v.02') move quickly or suddenly\n",
      "Synset('fly.v.03') operate an airplane\n",
      "Synset('fly.v.04') transport by aeroplane\n",
      "Synset('fly.v.05') cause to fly or float\n",
      "Synset('fly.v.06') be dispersed or disseminated\n",
      "Synset('fly.v.07') change quickly from one emotional state to another\n",
      "Synset('fly.v.08') pass away rapidly\n",
      "Synset('fly.v.09') travel in an airplane\n",
      "Synset('fly.v.10') display in the air or cause to float\n",
      "Synset('flee.v.01') run away quickly\n",
      "Synset('fly.v.12') travel over (an area of land or sea) in an aircraft\n",
      "Synset('fly.v.13') hit a fly\n",
      "Synset('vanish.v.05') decrease rapidly and disappear\n",
      "Synset('fly.s.01') (British informal) not to be deceived or hoodwinked\n"
     ]
    }
   ],
   "source": [
    "for ss in wn.synsets('fly'):\n",
    "  print(ss, ss.definition())"
   ]
  },
  {
   "cell_type": "code",
   "execution_count": 12,
   "metadata": {},
   "outputs": [
    {
     "name": "stdout",
     "output_type": "stream",
     "text": [
      "Synset('see.n.01') the seat within a bishop's diocese where his cathedral is located\n",
      "Synset('see.v.01') perceive by sight or have the power to perceive by sight\n",
      "Synset('understand.v.02') perceive (an idea or situation) mentally\n",
      "Synset('witness.v.02') perceive or be contemporaneous with\n",
      "Synset('visualize.v.01') imagine; conceive of; see in one's mind\n",
      "Synset('see.v.05') deem to be\n",
      "Synset('learn.v.02') get to know or become aware of, usually accidentally\n",
      "Synset('watch.v.03') see or watch\n",
      "Synset('meet.v.01') come together\n",
      "Synset('determine.v.08') find out, learn, or determine with certainty, usually by making an inquiry or other effort\n",
      "Synset('see.v.10') be careful or certain to do something; make certain of something\n",
      "Synset('see.v.11') go to see for professional or business reasons\n",
      "Synset('see.v.12') go to see for a social visit\n",
      "Synset('visit.v.01') go to see a place, as for entertainment\n",
      "Synset('attend.v.02') take charge of or deal with\n",
      "Synset('see.v.15') receive as a specified guest\n",
      "Synset('go_steady.v.01') date regularly; have a steady relationship with\n",
      "Synset('see.v.17') see and understand, have a good eye\n",
      "Synset('see.v.18') deliberate or decide\n",
      "Synset('see.v.19') observe as if with an eye\n",
      "Synset('examine.v.02') observe, check out, and look over carefully or inspect\n",
      "Synset('experience.v.01') go or live through\n",
      "Synset('see.v.22') accompany or escort\n",
      "Synset('see.v.23') match or meet\n",
      "Synset('interpret.v.01') make sense of; assign a meaning to\n"
     ]
    }
   ],
   "source": [
    "for ss in wn.synsets('see'):\n",
    "  print(ss, ss.definition())"
   ]
  },
  {
   "cell_type": "code",
   "execution_count": 13,
   "metadata": {},
   "outputs": [
    {
     "name": "stdout",
     "output_type": "stream",
     "text": [
      "Synset('run.n.01') a score in baseball made by a runner touching all four bases safely\n",
      "Synset('test.n.05') the act of testing something\n",
      "Synset('footrace.n.01') a race run on foot\n",
      "Synset('streak.n.01') an unbroken series of events\n",
      "Synset('run.n.05') (American football) a play in which a player attempts to carry the ball through or past the opposing team\n",
      "Synset('run.n.06') a regular trip\n",
      "Synset('run.n.07') the act of running; traveling on foot at a fast pace\n",
      "Synset('run.n.08') the continuous period of time during which something (a machine or a factory) operates or continues in operation\n",
      "Synset('run.n.09') unrestricted freedom to use\n",
      "Synset('run.n.10') the production achieved during a continuous period of operation (of a machine or factory etc.)\n",
      "Synset('rivulet.n.01') a small stream\n",
      "Synset('political_campaign.n.01') a race between candidates for elective office\n",
      "Synset('run.n.13') a row of unravelled stitches\n",
      "Synset('discharge.n.06') the pouring forth of a fluid\n",
      "Synset('run.n.15') an unbroken chronological sequence\n",
      "Synset('run.n.16') a short trip\n",
      "Synset('run.v.01') move fast by using one's feet, with one foot off the ground at any given time\n",
      "Synset('scat.v.01') flee; take to one's heels; cut and run\n",
      "Synset('run.v.03') stretch out over a distance, space, time, or scope; run or extend between two points or beyond a certain point\n",
      "Synset('operate.v.01') direct or control; projects, businesses, etc.\n",
      "Synset('run.v.05') have a particular form\n",
      "Synset('run.v.06') move along, of liquids\n",
      "Synset('function.v.01') perform as expected when applied\n",
      "Synset('range.v.01') change or be different within limits\n",
      "Synset('campaign.v.01') run, stand, or compete for an office or a position\n",
      "Synset('play.v.18') cause to emit recorded audio or video\n",
      "Synset('run.v.11') move about freely and without restraint, or act as if running around in an uncontrolled way\n",
      "Synset('tend.v.01') have a tendency or disposition to do or be something; be inclined\n",
      "Synset('run.v.13') be operating, running or functioning\n",
      "Synset('run.v.14') change from one state to another\n",
      "Synset('run.v.15') cause to perform\n",
      "Synset('run.v.16') be affected by; be subjected to\n",
      "Synset('prevail.v.03') continue to exist\n",
      "Synset('run.v.18') occur persistently\n",
      "Synset('run.v.19') carry out a process or program, as on a computer or a machine\n",
      "Synset('carry.v.15') include as the content; broadcast or publicize\n",
      "Synset('run.v.21') carry out\n",
      "Synset('guide.v.05') pass over, across, or through\n",
      "Synset('run.v.23') cause something to pass or lead somewhere\n",
      "Synset('run.v.24') make without a miss\n",
      "Synset('run.v.25') deal in illegally, such as arms or liquor\n",
      "Synset('run.v.26') cause an animal to move fast\n",
      "Synset('run.v.27') be diffused\n",
      "Synset('run.v.28') sail before the wind\n",
      "Synset('run.v.29') cover by running; run a certain distance\n",
      "Synset('run.v.30') extend or continue for a certain period of time\n",
      "Synset('run.v.31') set animals loose to graze\n",
      "Synset('run.v.32') keep company\n",
      "Synset('run.v.33') run with the ball; in such sports as football\n",
      "Synset('run.v.34') travel rapidly, by any (unspecified) means\n",
      "Synset('ply.v.03') travel a route regularly\n",
      "Synset('hunt.v.01') pursue for food or sport (as of wild animals)\n",
      "Synset('race.v.02') compete in a race\n",
      "Synset('move.v.13') progress by being changed\n",
      "Synset('melt.v.01') reduce or cause to be reduced from a solid to a liquid state, usually by heating\n",
      "Synset('ladder.v.01') come unraveled or undone as if by snagging\n",
      "Synset('run.v.41') become undone\n"
     ]
    }
   ],
   "source": [
    "for ss in wn.synsets('run'):\n",
    "  print(ss, ss.definition())"
   ]
  },
  {
   "cell_type": "code",
   "execution_count": 14,
   "metadata": {},
   "outputs": [
    {
     "name": "stdout",
     "output_type": "stream",
     "text": [
      "Synset('able.a.01') (usually followed by `to') having the necessary means or skill or know-how or authority to do something\n",
      "Synset('able.s.02') have the skills and qualifications to do things well\n",
      "Synset('able.s.03') having inherent physical or mental ability or capacity\n",
      "Synset('able.s.04') having a strong healthy body\n"
     ]
    }
   ],
   "source": [
    "for ss in wn.synsets('able'):\n",
    "  print(ss, ss.definition())"
   ]
  },
  {
   "cell_type": "code",
   "execution_count": 15,
   "metadata": {},
   "outputs": [
    {
     "name": "stdout",
     "output_type": "stream",
     "text": [
      "Synset('gather.n.01') sewing consisting of small folds or puckers made by pulling tight a thread in a line of stitching\n",
      "Synset('gather.n.02') the act of gathering something\n",
      "Synset('gather.v.01') assemble or get together\n",
      "Synset('meet.v.07') collect in one place\n",
      "Synset('accumulate.v.02') collect or gather\n",
      "Synset('gather.v.04') conclude from evidence\n",
      "Synset('gather.v.05') draw together into folds or puckers\n",
      "Synset('assemble.v.03') get people together\n",
      "Synset('gather.v.07') draw and bring closer\n",
      "Synset('gather.v.08') look for (food) in nature\n",
      "Synset('gain.v.07') increase or develop\n"
     ]
    }
   ],
   "source": [
    "for ss in wn.synsets('gather'):\n",
    "  print(ss, ss.definition())"
   ]
  },
  {
   "cell_type": "markdown",
   "metadata": {
    "id": "cPw5yngiOtVx"
   },
   "source": [
    "### Check for other words too...\n",
    "\n",
    "rose, duck, lie, play, scale, fly, see, run, able, gather\n",
    "\n",
    "\n",
    "\n"
   ]
  },
  {
   "cell_type": "markdown",
   "metadata": {
    "id": "Ue927zusSzvw"
   },
   "source": [
    "### Number of senses, positions, and POS"
   ]
  },
  {
   "cell_type": "code",
   "execution_count": 16,
   "metadata": {
    "id": "cdBQ9nr7Sgx_"
   },
   "outputs": [
    {
     "data": {
      "text/plain": [
       "[(Synset('duck.n.01'), 'n'),\n",
       " (Synset('duck.n.02'), 'n'),\n",
       " (Synset('duck.n.03'), 'n'),\n",
       " (Synset('duck.n.04'), 'n'),\n",
       " (Synset('duck.v.01'), 'v'),\n",
       " (Synset('duck.v.02'), 'v'),\n",
       " (Synset('dip.v.10'), 'v'),\n",
       " (Synset('hedge.v.01'), 'v')]"
      ]
     },
     "execution_count": 16,
     "metadata": {},
     "output_type": "execute_result"
    }
   ],
   "source": [
    "[(s, s.pos()) for s in wn.synsets('duck')]"
   ]
  },
  {
   "cell_type": "markdown",
   "metadata": {
    "id": "Y3nJQlNHURwY"
   },
   "source": [
    "### WSD"
   ]
  },
  {
   "cell_type": "code",
   "execution_count": 17,
   "metadata": {
    "id": "rK4LSXIQUT6s"
   },
   "outputs": [
    {
     "name": "stdout",
     "output_type": "stream",
     "text": [
      "In the early morning sunlight, \n",
      "a small wild web-footed broad-billed \n",
      "beautiful white duck, swimming coolly \n",
      "in the calm lake, caught my attention\n"
     ]
    }
   ],
   "source": [
    "sent = \"In the early morning sunlight, \\n\"\n",
    "sent += \"a small wild web-footed broad-billed \\n\"\n",
    "sent += \"beautiful white duck, swimming coolly \\n\"\n",
    "sent += \"in the calm lake, caught my attention\"\n",
    "print(sent)"
   ]
  },
  {
   "cell_type": "code",
   "execution_count": 18,
   "metadata": {
    "id": "BTVlmJX5Ul7C"
   },
   "outputs": [],
   "source": [
    "from nltk.wsd import lesk"
   ]
  },
  {
   "cell_type": "code",
   "execution_count": 19,
   "metadata": {
    "colab": {
     "base_uri": "https://localhost:8080/"
    },
    "executionInfo": {
     "elapsed": 379,
     "status": "ok",
     "timestamp": 1662687097625,
     "user": {
      "displayName": "Amroz Siddiqui",
      "userId": "05032953002561570838"
     },
     "user_tz": -330
    },
    "id": "l2tAf69OUsNE",
    "outputId": "4f28376e-baa8-40c6-deb2-a264d785a69f"
   },
   "outputs": [
    {
     "name": "stdout",
     "output_type": "stream",
     "text": [
      "Synset('duck.n.04')\n"
     ]
    }
   ],
   "source": [
    "print(lesk(sent, 'duck'))"
   ]
  },
  {
   "cell_type": "code",
   "execution_count": 20,
   "metadata": {
    "id": "8X4aXP-0V6ga"
   },
   "outputs": [
    {
     "name": "stdout",
     "output_type": "stream",
     "text": [
      "Synset('duck.n.01') small wild or domesticated web-footed broad-billed swimming bird usually having a depressed body and short legs\n",
      "Synset('duck.n.02') (cricket) a score of nothing by a batsman\n",
      "Synset('duck.n.03') flesh of a duck (domestic or wild)\n",
      "Synset('duck.n.04') a heavy cotton fabric of plain weave; used for clothing and tents\n",
      "Synset('duck.v.01') to move (the head or body) quickly downwards or away\n",
      "Synset('duck.v.02') submerge or plunge suddenly\n",
      "Synset('dip.v.10') dip into a liquid\n",
      "Synset('hedge.v.01') avoid or try to avoid fulfilling, answering, or performing (duties, questions, or issues)\n"
     ]
    }
   ],
   "source": [
    "for ss in wn.synsets('duck'):\n",
    "  print(ss, ss.definition())"
   ]
  },
  {
   "cell_type": "markdown",
   "metadata": {
    "id": "LPTh0F5CV9GR"
   },
   "source": [
    "### Cosine Similarity"
   ]
  },
  {
   "cell_type": "code",
   "execution_count": 21,
   "metadata": {
    "id": "PmtZqC_lWNAO"
   },
   "outputs": [],
   "source": [
    "# Define the documents\n",
    "doc_soup = \"Soup is a primarily liquid food, generally served warm or hot (but may be cool or cold), that is made by combining ingredients of meat or vegetables with stock, juice, water, or another liquid. \"\n",
    "\n",
    "doc_noodles = \"Noodles are a staple food in many cultures. They are made from unleavened dough which is stretched, extruded, or rolled flat and cut into one of a variety of shapes.\"\n",
    "\n",
    "doc_dosa = \"Dosa is a type of pancake from the Indian subcontinent, made from a fermented batter. It is somewhat similar to a crepe in appearance. Its main ingredients are rice and black gram.\"\n",
    "\n",
    "documents = [doc_soup, doc_noodles, doc_dosa]"
   ]
  },
  {
   "cell_type": "code",
   "execution_count": 25,
   "metadata": {
    "id": "G9bdSdymWRV7"
   },
   "outputs": [
    {
     "name": "stdout",
     "output_type": "stream",
     "text": [
      "             appearance  batter  black  cold  combining  cool  crepe  \\\n",
      "doc_soup              0       0      0     1          1     1      0   \n",
      "doc_noodles           0       0      0     0          0     0      0   \n",
      "doc_dosa              1       1      1     0          0     0      1   \n",
      "\n",
      "             cultures  cut  dosa  ...  staple  stock  stretched  subcontinent  \\\n",
      "doc_soup            0    0     0  ...       0      1          0             0   \n",
      "doc_noodles         1    1     0  ...       1      0          1             0   \n",
      "doc_dosa            0    0     1  ...       0      0          0             1   \n",
      "\n",
      "             type  unleavened  variety  vegetables  warm  water  \n",
      "doc_soup        0           0        0           1     1      1  \n",
      "doc_noodles     0           1        1           0     0      0  \n",
      "doc_dosa        1           0        0           0     0      0  \n",
      "\n",
      "[3 rows x 44 columns]\n"
     ]
    }
   ],
   "source": [
    "# Scikit Learn\n",
    "from sklearn.feature_extraction.text import CountVectorizer\n",
    "from sklearn.feature_extraction.text import TfidfVectorizer\n",
    "import pandas as pd\n",
    "\n",
    "# Create the Document Term Matrix\n",
    "vectorizer = CountVectorizer(stop_words='english')\n",
    "#vectorizer = TfidfVectorizer(stop_words='english')\n",
    "\n",
    "sparse_matrix = vectorizer.fit_transform(documents)\n",
    "\n",
    "# Convert Sparse Matrix to Pandas Dataframe if you want to see the word frequencies.\n",
    "doc_term_matrix = sparse_matrix.todense()\n",
    "df = pd.DataFrame(doc_term_matrix, \n",
    "                  columns=vectorizer.get_feature_names(), \n",
    "                  index=['doc_soup', 'doc_noodles', 'doc_dosa'])\n",
    "print(df)"
   ]
  },
  {
   "cell_type": "code",
   "execution_count": 26,
   "metadata": {
    "id": "zQTmvnZ7WuBR"
   },
   "outputs": [
    {
     "name": "stdout",
     "output_type": "stream",
     "text": [
      "[[1.         0.06201737 0.0559017 ]\n",
      " [0.06201737 1.         0.        ]\n",
      " [0.0559017  0.         1.        ]]\n"
     ]
    }
   ],
   "source": [
    "from sklearn.metrics.pairwise import cosine_similarity\n",
    "print(cosine_similarity(df, df))"
   ]
  },
  {
   "cell_type": "markdown",
   "metadata": {
    "id": "HgM0x8KWXq7B"
   },
   "source": [
    "### Illustrate our own lesk..."
   ]
  },
  {
   "cell_type": "code",
   "execution_count": 28,
   "metadata": {
    "id": "1ZHg9wZ-XxYu"
   },
   "outputs": [
    {
     "name": "stdout",
     "output_type": "stream",
     "text": [
      "Synset('duck.n.01') small wild or domesticated web-footed broad-billed swimming bird usually having a depressed body and short legs\n",
      "               attention  beautiful  billed  bird  body  broad  calm  caught  \\\n",
      "Test Sentence          1          1       1     0     0      1     1       1   \n",
      "Definition             0          0       1     1     1      1     0       0   \n",
      "\n",
      "               coolly  depressed  ...  legs  morning  short  small  sunlight  \\\n",
      "Test Sentence       1          0  ...     0        1      0      1         1   \n",
      "Definition          0          1  ...     1        0      1      1         0   \n",
      "\n",
      "               swimming  usually  web  white  wild  \n",
      "Test Sentence         1        0    1      1     1  \n",
      "Definition            1        1    1      0     1  \n",
      "\n",
      "[2 rows x 26 columns]\n",
      "[[1.         0.42600643]\n",
      " [0.42600643 1.        ]]\n",
      "Synset('duck.n.02') (cricket) a score of nothing by a batsman\n",
      "               attention  batsman  beautiful  billed  broad  calm  caught  \\\n",
      "Test Sentence          1        0          1       1      1     1       1   \n",
      "Definition             0        1          0       0      0     0       0   \n",
      "\n",
      "               coolly  cricket  duck  ...  footed  lake  morning  score  \\\n",
      "Test Sentence       1        0     1  ...       1     1        1      0   \n",
      "Definition          0        1     0  ...       0     0        0      1   \n",
      "\n",
      "               small  sunlight  swimming  web  white  wild  \n",
      "Test Sentence      1         1         1    1      1     1  \n",
      "Definition         0         0         0    0      0     0  \n",
      "\n",
      "[2 rows x 21 columns]\n",
      "[[1. 0.]\n",
      " [0. 1.]]\n",
      "Synset('duck.n.03') flesh of a duck (domestic or wild)\n",
      "               attention  beautiful  billed  broad  calm  caught  coolly  \\\n",
      "Test Sentence          1          1       1      1     1       1       1   \n",
      "Definition             0          0       0      0     0       0       0   \n",
      "\n",
      "               domestic  duck  early  flesh  footed  lake  morning  small  \\\n",
      "Test Sentence         0     1      1      0       1     1        1      1   \n",
      "Definition            1     1      0      1       0     0        0      0   \n",
      "\n",
      "               sunlight  swimming  web  white  wild  \n",
      "Test Sentence         1         1    1      1     1  \n",
      "Definition            0         0    0      0     1  \n",
      "[[1.         0.23570226]\n",
      " [0.23570226 1.        ]]\n",
      "Synset('duck.n.04') a heavy cotton fabric of plain weave; used for clothing and tents\n",
      "               attention  beautiful  billed  broad  calm  caught  clothing  \\\n",
      "Test Sentence          1          1       1      1     1       1         0   \n",
      "Definition             0          0       0      0     0       0         1   \n",
      "\n",
      "               coolly  cotton  duck  ...  plain  small  sunlight  swimming  \\\n",
      "Test Sentence       1       0     1  ...      0      1         1         1   \n",
      "Definition          0       1     0  ...      1      0         0         0   \n",
      "\n",
      "               tents  used  weave  web  white  wild  \n",
      "Test Sentence      0     0      0    1      1     1  \n",
      "Definition         1     1      1    0      0     0  \n",
      "\n",
      "[2 rows x 26 columns]\n",
      "[[1. 0.]\n",
      " [0. 1.]]\n",
      "Synset('duck.v.01') to move (the head or body) quickly downwards or away\n",
      "               attention  away  beautiful  billed  body  broad  calm  caught  \\\n",
      "Test Sentence          1     0          1       1     0      1     1       1   \n",
      "Definition             0     1          0       0     1      0     0       0   \n",
      "\n",
      "               coolly  downwards  ...  head  lake  morning  quickly  small  \\\n",
      "Test Sentence       1          0  ...     0     1        1        0      1   \n",
      "Definition          0          1  ...     1     0        0        1      0   \n",
      "\n",
      "               sunlight  swimming  web  white  wild  \n",
      "Test Sentence         1         1    1      1     1  \n",
      "Definition            0         0    0      0     0  \n",
      "\n",
      "[2 rows x 23 columns]\n",
      "[[1. 0.]\n",
      " [0. 1.]]\n",
      "Synset('duck.v.02') submerge or plunge suddenly\n",
      "               attention  beautiful  billed  broad  calm  caught  coolly  \\\n",
      "Test Sentence          1          1       1      1     1       1       1   \n",
      "Definition             0          0       0      0     0       0       0   \n",
      "\n",
      "               duck  early  footed  ...  morning  plunge  small  submerge  \\\n",
      "Test Sentence     1      1       1  ...        1       0      1         0   \n",
      "Definition        0      0       0  ...        0       1      0         1   \n",
      "\n",
      "               suddenly  sunlight  swimming  web  white  wild  \n",
      "Test Sentence         0         1         1    1      1     1  \n",
      "Definition            1         0         0    0      0     0  \n",
      "\n",
      "[2 rows x 21 columns]\n",
      "[[1. 0.]\n",
      " [0. 1.]]\n",
      "Synset('dip.v.10') dip into a liquid\n",
      "               attention  beautiful  billed  broad  calm  caught  coolly  dip  \\\n",
      "Test Sentence          1          1       1      1     1       1       1    0   \n",
      "Definition             0          0       0      0     0       0       0    1   \n",
      "\n",
      "               duck  early  footed  lake  liquid  morning  small  sunlight  \\\n",
      "Test Sentence     1      1       1     1       0        1      1         1   \n",
      "Definition        0      0       0     0       1        0      0         0   \n",
      "\n",
      "               swimming  web  white  wild  \n",
      "Test Sentence         1    1      1     1  \n",
      "Definition            0    0      0     0  \n",
      "[[1. 0.]\n",
      " [0. 1.]]\n",
      "Synset('hedge.v.01') avoid or try to avoid fulfilling, answering, or performing (duties, questions, or issues)\n",
      "               answering  attention  avoid  beautiful  billed  broad  calm  \\\n",
      "Test Sentence          0          1      0          1       1      1     1   \n",
      "Definition             1          0      2          0       0      0     0   \n",
      "\n",
      "               caught  coolly  duck  ...  morning  performing  questions  \\\n",
      "Test Sentence       1       1     1  ...        1           0          0   \n",
      "Definition          0       0     0  ...        0           1          1   \n",
      "\n",
      "               small  sunlight  swimming  try  web  white  wild  \n",
      "Test Sentence      1         1         1    0    1      1     1  \n",
      "Definition         0         0         0    1    0      0     0  \n",
      "\n",
      "[2 rows x 26 columns]\n",
      "[[1. 0.]\n",
      " [0. 1.]]\n"
     ]
    }
   ],
   "source": [
    "# Create the Document Term Matrix\n",
    "vectorizer = CountVectorizer(stop_words='english')\n",
    "#vectorizer = TfidfVectorizer(stop_words='english')\n",
    "doc1 = sent\n",
    "for ss in wn.synsets('duck'):\n",
    "  doc2 = ss.definition()\n",
    "  print(ss, doc2)\n",
    "  documents = [doc1,doc2]\n",
    "  sparse_matrix = vectorizer.fit_transform(documents)\n",
    "  doc_term_matrix = sparse_matrix.todense()\n",
    "  df = pd.DataFrame(doc_term_matrix, \n",
    "                  columns=vectorizer.get_feature_names(), \n",
    "                  index=['Test Sentence','Definition'])\n",
    "  print(df)\n",
    "  print(cosine_similarity(df, df))\n",
    "\n"
   ]
  },
  {
   "cell_type": "markdown",
   "metadata": {
    "id": "8jDQIcskwjVd"
   },
   "source": [
    "### Test yourself"
   ]
  },
  {
   "cell_type": "markdown",
   "metadata": {
    "id": "RwBR2b1RwoB4"
   },
   "source": [
    "### Perform WSD for the word \"rose\" in the given sentence.\n",
    "1. Use Built in Lesk Algorithm\n",
    "2. Use your own technique"
   ]
  },
  {
   "cell_type": "code",
   "execution_count": 37,
   "metadata": {
    "id": "RdWVNd3bwmY4"
   },
   "outputs": [],
   "source": [
    "sent = \"With governance in idiot's hand, \\n\"\n",
    "sent += \"people rose to the occasion and \\n\"\n",
    "sent += \"took part in rebellion protests.\""
   ]
  },
  {
   "cell_type": "code",
   "execution_count": 38,
   "metadata": {},
   "outputs": [
    {
     "name": "stdout",
     "output_type": "stream",
     "text": [
      "Synset('rose.s.01')  :  of something having a dusty purplish pink color\n"
     ]
    }
   ],
   "source": [
    "ss = lesk(sent, 'rose')\n",
    "m =  ss.definition()\n",
    "print(ss,\" : \",m)"
   ]
  },
  {
   "cell_type": "code",
   "execution_count": 47,
   "metadata": {},
   "outputs": [
    {
     "name": "stdout",
     "output_type": "stream",
     "text": [
      "any of many shrubs of the genus Rosa that bear roses  :  0.0\n",
      "pinkish table wine from red grapes whose skins were removed after fermentation began  :  0.0\n",
      "a dusty pink color  :  0.0\n",
      "move upward  :  0.0\n",
      "increase in value or to a higher point  :  0.0\n",
      "rise to one's feet  :  0.0\n",
      "rise up  :  0.0\n",
      "come to the surface  :  0.0\n",
      "come into existence; take on form or shape  :  0.0\n",
      "move to a better position in life or to a better job; \"She ascended from a life of poverty to one of great  :  0.0\n",
      "go up or advance  :  0.0\n",
      "become more extreme  :  0.0\n",
      "get up and out of bed  :  0.0\n",
      "rise in rank or status  :  0.0\n",
      "become heartened or elated  :  0.0\n",
      "exert oneself to meet a challenge  :  0.0\n",
      "take part in a rebellion; renounce a former allegiance  :  0.19245008972987526\n",
      "increase in volume  :  0.0\n",
      "come up, of celestial bodies  :  0.0\n",
      "return from the dead  :  0.0\n",
      "of something having a dusty purplish pink color  :  0.0\n",
      "\n",
      "\n",
      " The meaning of rose is :  take part in a rebellion; renounce a former allegiance\n"
     ]
    }
   ],
   "source": [
    "vectorizer = CountVectorizer(stop_words='english')\n",
    "#vectorizer = TfidfVectorizer(stop_words='english')\n",
    "doc1 = sent\n",
    "maxSim = 0\n",
    "closest =  ''\n",
    "for ss in wn.synsets('rose'):\n",
    "  doc2 = ss.definition()\n",
    "#   print(ss, doc2)\n",
    "  documents = [doc1,doc2]\n",
    "  sparse_matrix = vectorizer.fit_transform(documents)\n",
    "#   print(\"docs\",documents)\n",
    "#   print('sparse matrix',sparse_matrix)\n",
    "#   print(vectorizer.vocabulary_)\n",
    "#   print(vectorizer.get_feature_names())\n",
    "  doc_term_matrix = sparse_matrix.todense()\n",
    "  df = pd.DataFrame(doc_term_matrix, \n",
    "                  columns=vectorizer.get_feature_names(), \n",
    "                  index=['Test Sentence','Definition'])\n",
    "#   print(df)\n",
    "  similarity = cosine_similarity(df, df)[0][1]\n",
    "#   print(cosine_similarity(df, df))\n",
    "  print(doc2, \" : \",similarity)\n",
    "  if similarity > maxSim :\n",
    "        maxSim = similarity\n",
    "        closest = doc2\n",
    "        \n",
    "print(\"\\n\\n The meaning of rose is : \",closest)"
   ]
  },
  {
   "cell_type": "code",
   "execution_count": null,
   "metadata": {},
   "outputs": [],
   "source": []
  }
 ],
 "metadata": {
  "colab": {
   "authorship_tag": "ABX9TyMJiXkengV3xgpiiFFzw2Lt",
   "collapsed_sections": [],
   "provenance": []
  },
  "kernelspec": {
   "display_name": "Python 3 (ipykernel)",
   "language": "python",
   "name": "python3"
  },
  "language_info": {
   "codemirror_mode": {
    "name": "ipython",
    "version": 3
   },
   "file_extension": ".py",
   "mimetype": "text/x-python",
   "name": "python",
   "nbconvert_exporter": "python",
   "pygments_lexer": "ipython3",
   "version": "3.9.7"
  }
 },
 "nbformat": 4,
 "nbformat_minor": 1
}
