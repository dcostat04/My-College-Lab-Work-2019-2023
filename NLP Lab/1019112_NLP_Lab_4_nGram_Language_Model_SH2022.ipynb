{
  "nbformat": 4,
  "nbformat_minor": 0,
  "metadata": {
    "colab": {
      "name": "1019112_NLP_Lab_4_nGram_Language_Model_SH2022.ipynb",
      "provenance": [],
      "collapsed_sections": []
    },
    "kernelspec": {
      "name": "python3",
      "display_name": "Python 3"
    },
    "language_info": {
      "name": "python"
    }
  },
  "cells": [
    {
      "cell_type": "markdown",
      "source": [
        "# CSDL7013 Natural Language Processing Lab 4\n",
        "\n",
        "* NOTE: Prepend your Roll Number to the name of this file"
      ],
      "metadata": {
        "id": "vKeGVu2k8Hmt"
      }
    },
    {
      "cell_type": "markdown",
      "source": [
        "## Regular Expressions\n",
        "\n",
        "1. **Title:** n-gram language model\n",
        "\n",
        "2. **Objective/Aim:** To  generate n-gram language model\n",
        "\n",
        "3. **Due Date:** Friday August 19, 2022 \n",
        "\n",
        "\n",
        "\n",
        "\n"
      ],
      "metadata": {
        "id": "5xL99s7p8OK4"
      }
    },
    {
      "cell_type": "markdown",
      "source": [
        "### Name : Trevor Aaron Robert D'Costa\n",
        "\n",
        "### Roll Number : 1019112"
      ],
      "metadata": {
        "id": "u4CzHC3T82GQ"
      }
    },
    {
      "cell_type": "markdown",
      "source": [
        "\n",
        "Q. 1.  Read the file **survey.txt** given, generate the trigram model. Consider each sentence separately.\n",
        "\n",
        "[*02 Marks*]\n"
      ],
      "metadata": {
        "id": "ucoEIFm29CMg"
      }
    },
    {
      "cell_type": "code",
      "execution_count": null,
      "metadata": {
        "id": "3r8fxlBVn1iH",
        "colab": {
          "base_uri": "https://localhost:8080/"
        },
        "outputId": "6da28311-f39a-47a5-9813-9d1883ef756b"
      },
      "outputs": [
        {
          "output_type": "stream",
          "name": "stderr",
          "text": [
            "[nltk_data] Downloading package punkt to /root/nltk_data...\n",
            "[nltk_data]   Unzipping tokenizers/punkt.zip.\n"
          ]
        }
      ],
      "source": [
        "#Solution to Q. 1. \n",
        "import nltk\n",
        "nltk.download('punkt')\n",
        "from nltk.tokenize import word_tokenize"
      ]
    },
    {
      "cell_type": "code",
      "source": [
        "file = open('survey.txt', 'r')\n",
        "read_data = file.read()\n",
        "occ = input(\"Enter the inital sentence \\n\")\n",
        "occu= input(\"Enter the food item \\n\")\n",
        "occur = read_data.count(occ)\n",
        "occurrences = read_data.count(occ+\" \"+occu)\n",
        "print(\"Number of\",occ,\":\", occur)\n",
        "print(\"Number of\",occu,\":\", occurrences)\n",
        "prob = occurrences/occur\n",
        "print(prob)"
      ],
      "metadata": {
        "colab": {
          "base_uri": "https://localhost:8080/"
        },
        "id": "gK7IMRxUrnYV",
        "outputId": "e17a4c69-fa0f-414a-f30a-c7054812aa6a"
      },
      "execution_count": 8,
      "outputs": [
        {
          "output_type": "stream",
          "name": "stdout",
          "text": [
            "Enter the inital sentence \n",
            "I get\n",
            "Enter the food item \n",
            "lassi\n",
            "Number of I get : 43\n",
            "Number of lassi : 8\n",
            "0.18604651162790697\n"
          ]
        }
      ]
    },
    {
      "cell_type": "markdown",
      "source": [
        "\n",
        "Q. 2.  Read the given text files, remove all punctuation symbols, change all words to small case, generate trigram model for each one of them.\n",
        "\n",
        "[*08 Marks*]\n"
      ],
      "metadata": {
        "id": "WabxvPGl3Cw8"
      }
    },
    {
      "cell_type": "code",
      "execution_count": 5,
      "metadata": {
        "id": "6jlGk_ye3Cw9",
        "colab": {
          "base_uri": "https://localhost:8080/"
        },
        "outputId": "91e81c9f-e8ba-4e06-c986-8b2eb18b5657"
      },
      "outputs": [
        {
          "output_type": "stream",
          "name": "stdout",
          "text": [
            "Enter filename: madteaparty.txt\n",
            "Removed punctuations from the file madteaparty.txt\n",
            "Changed all words to small case from the file madteaparty.txt\n"
          ]
        }
      ],
      "source": [
        "#Solution to Q. 2. \n",
        "filename = input(\"Enter filename: \")\n",
        "def remove_punc(string):\n",
        "    punc = '''!()-[]{};:'\"\\, <>./?@#$%^&*_~'''\n",
        "    for ele in string:  \n",
        "        if ele in punc:  \n",
        "            string = string.replace(ele, \" \") \n",
        "    return string\n",
        "\n",
        "try:\n",
        "    with open(filename,'r',encoding=\"utf-8\") as f:\n",
        "        data = f.read()\n",
        "        data = data.lower()\n",
        "    with open(filename,\"w+\",encoding=\"utf-8\") as f:\n",
        "        f.write(remove_punc(data))\n",
        "    print(\"Removed punctuations from the file\", filename)\n",
        "    print(\"Changed all words to small case from the file\",filename)\n",
        "\n",
        "except FileNotFoundError:\n",
        "    print(\"File not found\")"
      ]
    },
    {
      "cell_type": "code",
      "source": [
        "# madteaparty.txt\n",
        "file = open('madteaparty.txt', 'r')\n",
        "read_data = file.read()\n",
        "occ = input(\"Enter the inital sentence \\n\")\n",
        "occu= input(\"Enter the next occurence \\n\")\n",
        "occur = read_data.count(occ)\n",
        "occurrences = read_data.count(occ+\" \"+occu)\n",
        "print(\"Number of\",occ,\":\", occur)\n",
        "print(\"Number of\",occu,\":\", occurrences)\n",
        "prob = occurrences/occur\n",
        "print(prob)"
      ],
      "metadata": {
        "colab": {
          "base_uri": "https://localhost:8080/"
        },
        "id": "VNIS6UwfkaxY",
        "outputId": "c4c50e0c-f271-49b4-cf70-368dc5abf033"
      },
      "execution_count": 10,
      "outputs": [
        {
          "output_type": "stream",
          "name": "stdout",
          "text": [
            "Enter the inital sentence \n",
            "you\n",
            "Enter the next occurence \n",
            "should\n",
            "Number of you : 11\n",
            "Number of should : 2\n",
            "0.18181818181818182\n"
          ]
        }
      ]
    }
  ]
}