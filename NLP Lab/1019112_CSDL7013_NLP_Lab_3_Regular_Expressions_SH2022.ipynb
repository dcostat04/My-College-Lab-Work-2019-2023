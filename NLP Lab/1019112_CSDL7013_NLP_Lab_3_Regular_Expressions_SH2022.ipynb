{
  "nbformat": 4,
  "nbformat_minor": 0,
  "metadata": {
    "colab": {
      "name": "1019112_CSDL7013_NLP_Lab_3_Regular_Expressions_SH2022.ipynb",
      "provenance": [],
      "collapsed_sections": []
    },
    "kernelspec": {
      "name": "python3",
      "display_name": "Python 3"
    },
    "language_info": {
      "name": "python"
    }
  },
  "cells": [
    {
      "cell_type": "markdown",
      "source": [
        "# CSDL7013 Natural Language Processing Lab 3\n",
        "\n",
        "* NOTE: Prepend your Roll Number to the name of this file"
      ],
      "metadata": {
        "id": "vKeGVu2k8Hmt"
      }
    },
    {
      "cell_type": "markdown",
      "source": [
        "## Regular Expressions\n",
        "\n",
        "1. **Title:** Regular Expressions\n",
        "\n",
        "2. **Objective/Aim:** To  illustrate use of regular expressions at pre-processing stage of NLP\n",
        "\n",
        "3. **Due Date:** Saturday August 06, 2022 \n",
        "\n",
        "\n",
        "\n",
        "\n"
      ],
      "metadata": {
        "id": "5xL99s7p8OK4"
      }
    },
    {
      "cell_type": "markdown",
      "source": [
        "### Name : Trevor Aaron Robert D'Costa\n",
        "\n",
        "### Roll Number : 1019112"
      ],
      "metadata": {
        "id": "u4CzHC3T82GQ"
      }
    },
    {
      "cell_type": "markdown",
      "source": [
        "\n",
        "Q. 1.  List all clauses from **ATaleOfTwoCities.txt**, that contains the phrase \"it was\", ignore case.\n",
        "\n",
        "[*02 Marks*]\n"
      ],
      "metadata": {
        "id": "ucoEIFm29CMg"
      }
    },
    {
      "cell_type": "code",
      "source": [
        "import re\n",
        "two_cities = open('/content/data/ATaleOfTwoCities.txt','r').read()\n",
        "two_cities"
      ],
      "metadata": {
        "colab": {
          "base_uri": "https://localhost:8080/",
          "height": 157
        },
        "id": "mNeexbbE0pcI",
        "outputId": "6309d668-57d9-4d8d-9ab5-47a887a09969"
      },
      "execution_count": null,
      "outputs": [
        {
          "output_type": "execute_result",
          "data": {
            "text/plain": [
              "'It was the best of times, it was the worst of times, \\nit was the age of wisdom, it was the age of foolishness, \\nit was the epoch of belief, it was the epoch of incredulity, \\nit was the season of Light, it was the season of Darkness, \\nit was the spring of hope, it was the winter of despair, \\nwe had everything before us, we had nothing before us, \\nwe were all going direct to Heaven, we were all going \\ndirect the other way - in short, the period was so far \\nlike the present period, that some of its noisiest authorities \\ninsisted on its being received, for good or for evil, in \\nthe superlative degree of comparison only. \\n\\nThere were a king with a large jaw and a queen with a plain face, \\non the throne of England; there were a king with a large jaw and a queen with a fair face, \\non the throne of France. In both countries it was clearer than crystal\\n to the lords of the State preserves of loaves and fishes, \\nthat things in general were settled for ever. '"
            ],
            "application/vnd.google.colaboratory.intrinsic+json": {
              "type": "string"
            }
          },
          "metadata": {},
          "execution_count": 87
        }
      ]
    },
    {
      "cell_type": "code",
      "execution_count": null,
      "metadata": {
        "id": "3r8fxlBVn1iH",
        "colab": {
          "base_uri": "https://localhost:8080/"
        },
        "outputId": "9bc0d68f-6ee2-41c3-8e49-368b1bc9eea9"
      },
      "outputs": [
        {
          "output_type": "execute_result",
          "data": {
            "text/plain": [
              "['It was the best of times,',\n",
              " 'it was the worst of times,',\n",
              " 'it was the age of wisdom,',\n",
              " 'it was the age of foolishness,',\n",
              " 'it was the epoch of belief,',\n",
              " 'it was the epoch of incredulity,',\n",
              " 'it was the season of Light,',\n",
              " 'it was the season of Darkness,',\n",
              " 'it was the spring of hope,',\n",
              " 'it was the winter of despair,',\n",
              " 'it was clearer than crystal\\n to the lords of the State preserves of loaves and fishes,']"
            ]
          },
          "metadata": {},
          "execution_count": 86
        }
      ],
      "source": [
        "#Solution to Q. 1. \n",
        "\n",
        "reg = \"[Ii]t was[\\s|a-zA-Z]*[,\\.]\"\n",
        "result = re.findall(reg, two_cities)\n",
        "result"
      ]
    },
    {
      "cell_type": "markdown",
      "source": [
        "\n",
        "Q. 2.  Replace all \"we\" with \"king\" and \"king\" with \"we\" in the file **ATaleOfTwoCities.txt**\n",
        "\n",
        "[*02 Marks*]\n"
      ],
      "metadata": {
        "id": "WabxvPGl3Cw8"
      }
    },
    {
      "cell_type": "code",
      "execution_count": null,
      "metadata": {
        "id": "6jlGk_ye3Cw9",
        "colab": {
          "base_uri": "https://localhost:8080/",
          "height": 157
        },
        "outputId": "e037612d-4a4d-446c-8631-2a780c82d750"
      },
      "outputs": [
        {
          "output_type": "execute_result",
          "data": {
            "text/plain": [
              "'It was the best of times, it was the worst of times, \\nit was the age of wisdom, it was the age of foolishness, \\nit was the epoch of belief, it was the epoch of incredulity, \\nit was the season of Light, it was the season of Darkness, \\nit was the spring of hope, it was the winter of despair, \\nking had everything before us, king had nothing before us, \\nking kingre all going direct to Heaven, king kingre all going \\ndirect the other way - in short, the period was so far \\nlike the present period, that some of its noisiest authorities \\ninsisted on its being received, for good or for evil, in \\nthe superlative degree of comparison only. \\n\\nThere kingre a we with a large jaw and a queen with a plain face, \\non the throne of England; there kingre a we with a large jaw and a queen with a fair face, \\non the throne of France. In both countries it was clearer than crystal\\n to the lords of the State preserves of loaves and fishes, \\nthat things in general kingre settled for ever. '"
            ],
            "application/vnd.google.colaboratory.intrinsic+json": {
              "type": "string"
            }
          },
          "metadata": {},
          "execution_count": 11
        }
      ],
      "source": [
        "#Solution to Q. 2. \n",
        "two_cities\n",
        "result1= re.sub('we','subs',two_cities)\n",
        "result2 = re.sub('king','we',result1)\n",
        "result3= re.sub('subs','king',result2)\n",
        "result3\n"
      ]
    },
    {
      "cell_type": "markdown",
      "source": [
        "\n",
        "Q. 3.  Extract all pronouns from the text file **TheCountOfMonteCristo.txt**\n",
        "\n",
        "[*02 Marks*]\n"
      ],
      "metadata": {
        "id": "AVS22Brw3Shn"
      }
    },
    {
      "cell_type": "code",
      "source": [
        "monte_cristo = open('/content/data/TheCountOfMonteCristo.txt','r').read()\n",
        "monte_cristo"
      ],
      "metadata": {
        "colab": {
          "base_uri": "https://localhost:8080/",
          "height": 157
        },
        "id": "EI4nq8KonF0E",
        "outputId": "5ce4e30b-a39b-4dae-8faf-d71a21bf5d6a"
      },
      "execution_count": null,
      "outputs": [
        {
          "output_type": "execute_result",
          "data": {
            "text/plain": [
              "' He was a fine, tall, slim young fellow of eighteen or twenty, \\nwith black eyes, and hair as dark as a raven\\'s wing; and his \\nwhole appearance bespoke that calmness and resolution peculiar \\nto men accustomed from their cradle to contend with danger.\\n\\n\"Ah, is it you, Dantès?\" cried the man in the skiff. \\n\"What\\'s the matter? and why have you such an air of sadness aboard?\"\\n\\n\"A great misfortune, M. Morrel,\" replied the young man, \\n\"a great misfortune, for me especially! Off Civita Vecchia we lost our brave Captain Leclere.\"\\n\\n\"And the cargo?\" inquired the owner, eagerly\\n\\n\"Is all safe, M. Morrel; and I think you will be satisfied on that head. But poor Captain Leclere\"\\n\\n\"What happened to him?” asked the owner, with an air of considerable resignation. \\n\"What happened to the worthy captain?\"\\n\\n\"He died.\"\\n\\n\"Fell into the sea?\"\\n\\n\"No, sir, he died of brain-fever in dreadful agony.\" \\nThen turning to the crew, he said, \"Bear a hand there, to take in sail!\"'"
            ],
            "application/vnd.google.colaboratory.intrinsic+json": {
              "type": "string"
            }
          },
          "metadata": {},
          "execution_count": 12
        }
      ]
    },
    {
      "cell_type": "code",
      "source": [
        "#Solution to Q. 3.\n",
        "\n",
        "pronoun = \"(([Ss]?[Hh]e|[Ii]t|[Yy]ou[r]?|[Tt]he[ym]|[Ww]e|[[Hh]im|er]))\"\n",
        "ans1= re.findall(pronoun, monte_cristo)\n",
        "ans2 =[*set(ans1)]\n",
        "ans2"
      ],
      "metadata": {
        "id": "22fuuae_3bkr",
        "colab": {
          "base_uri": "https://localhost:8080/"
        },
        "outputId": "8d64e3d1-0be8-4f98-e681-da69c849b28a"
      },
      "execution_count": null,
      "outputs": [
        {
          "output_type": "stream",
          "name": "stderr",
          "text": [
            "/usr/local/lib/python3.7/dist-packages/ipykernel_launcher.py:4: FutureWarning: Possible nested set at position 48\n",
            "  after removing the cwd from sys.path.\n"
          ]
        },
        {
          "output_type": "execute_result",
          "data": {
            "text/plain": [
              "[('he', 'he'),\n",
              " ('him', 'him'),\n",
              " ('it', 'it'),\n",
              " ('we', 'we'),\n",
              " ('He', 'He'),\n",
              " ('you', 'you')]"
            ]
          },
          "metadata": {},
          "execution_count": 66
        }
      ]
    },
    {
      "cell_type": "markdown",
      "source": [
        "\n",
        "Q. 4.  Extract all spoken dialoges from the text file **TheCountOfMonteCristo.txt**\n",
        "\n",
        "[*02 Marks*]\n"
      ],
      "metadata": {
        "id": "YUVttJOu3hV_"
      }
    },
    {
      "cell_type": "code",
      "source": [
        "#Solution to Q. 4.\n",
        "dialog= '\"(.*?)\"'\n",
        "ans3 = re.findall(dialog,monte_cristo)\n",
        "ans3"
      ],
      "metadata": {
        "id": "hTLKCUA83hWA",
        "colab": {
          "base_uri": "https://localhost:8080/"
        },
        "outputId": "bbd7eb4d-0e69-46d6-a5e4-7cafb0de8190"
      },
      "execution_count": null,
      "outputs": [
        {
          "output_type": "execute_result",
          "data": {
            "text/plain": [
              "['Ah, is it you, Dantès?',\n",
              " \"What's the matter? and why have you such an air of sadness aboard?\",\n",
              " 'A great misfortune, M. Morrel,',\n",
              " 'a great misfortune, for me especially! Off Civita Vecchia we lost our brave Captain Leclere.',\n",
              " 'And the cargo?',\n",
              " 'Is all safe, M. Morrel; and I think you will be satisfied on that head. But poor Captain Leclere',\n",
              " 'What happened to the worthy captain?',\n",
              " 'He died.',\n",
              " 'Fell into the sea?',\n",
              " 'No, sir, he died of brain-fever in dreadful agony.',\n",
              " 'Bear a hand there, to take in sail!']"
            ]
          },
          "metadata": {},
          "execution_count": 14
        }
      ]
    },
    {
      "cell_type": "markdown",
      "source": [
        "\n",
        "Q. 5.  Extract all sentences having question mark from the text file **TheCountOfMonteCristo.txt**\n",
        "\n",
        "[*02 Marks*]\n"
      ],
      "metadata": {
        "id": "d9FzJDSd3itX"
      }
    },
    {
      "cell_type": "code",
      "source": [
        "#Solution to Q. 5.\n",
        "question = \"[^.!?]+\\?\"\n",
        "ans4 = re.findall(question,monte_cristo)\n",
        "ans4\n"
      ],
      "metadata": {
        "id": "n6MjDyna3ita",
        "colab": {
          "base_uri": "https://localhost:8080/"
        },
        "outputId": "7867f545-77f7-4fbf-b720-7cdb0c0a5ee3"
      },
      "execution_count": null,
      "outputs": [
        {
          "output_type": "execute_result",
          "data": {
            "text/plain": [
              "['\\n\\n\"Ah, is it you, Dantès?',\n",
              " ' \\n\"What\\'s the matter?',\n",
              " ' and why have you such an air of sadness aboard?',\n",
              " '\"\\n\\n\"And the cargo?',\n",
              " ' But poor Captain Leclere\"\\n\\n\"What happened to him?',\n",
              " ' \\n\"What happened to the worthy captain?',\n",
              " '\"\\n\\n\"Fell into the sea?']"
            ]
          },
          "metadata": {},
          "execution_count": 58
        }
      ]
    }
  ]
}