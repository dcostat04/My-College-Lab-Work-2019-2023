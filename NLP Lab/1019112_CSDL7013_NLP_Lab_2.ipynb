{
  "nbformat": 4,
  "nbformat_minor": 0,
  "metadata": {
    "colab": {
      "name": "lab2NLP.ipynb",
      "provenance": []
    },
    "kernelspec": {
      "name": "python3",
      "display_name": "Python 3"
    },
    "language_info": {
      "name": "python"
    }
  },
  "cells": [
    {
      "cell_type": "markdown",
      "source": [
        "# CSDL7013 Natural Language Processing Lab 2\n",
        "\n",
        "* NOTE: Prepend your Roll Number to the name of this file"
      ],
      "metadata": {
        "id": "vKeGVu2k8Hmt"
      }
    },
    {
      "cell_type": "markdown",
      "source": [
        "## Text Exploration Using NLTK\n",
        "\n",
        "1. **Title:** Text Exploration Using NLTK\n",
        "\n",
        "2. **Objective/Aim:** To  illustrate various text exploration techniques using NLTK\n",
        "\n",
        "3. **Due Date:** Saturday July 30, 2022 \n",
        "\n",
        "\n",
        "\n",
        "\n"
      ],
      "metadata": {
        "id": "5xL99s7p8OK4"
      }
    },
    {
      "cell_type": "markdown",
      "source": [
        "### Name : Trevor Dcosta\n",
        "\n",
        "### Roll Number : 1019112"
      ],
      "metadata": {
        "id": "u4CzHC3T82GQ"
      }
    },
    {
      "cell_type": "markdown",
      "source": [
        "\n",
        "Q. 1. List all available books from gutenberg and print few words, sentences, from some of them.\n",
        "\n",
        "[*02 Marks*]\n"
      ],
      "metadata": {
        "id": "ucoEIFm29CMg"
      }
    },
    {
      "cell_type": "code",
      "execution_count": null,
      "metadata": {
        "id": "uaRH8H-z79M8"
      },
      "outputs": [],
      "source": [
        "import nltk\n",
        "from nltk.corpus import gutenberg\n",
        "from nltk.probability import FreqDist\n",
        "import matplotlib.pyplot as plt"
      ]
    },
    {
      "cell_type": "code",
      "source": [
        "nltk.download('gutenberg')\n",
        "nltk.download('stopwords')"
      ],
      "metadata": {
        "id": "JGXtGFqJ9wYa",
        "colab": {
          "base_uri": "https://localhost:8080/"
        },
        "outputId": "83e7969e-9797-4282-81ae-07fe3e17f5b2"
      },
      "execution_count": null,
      "outputs": [
        {
          "output_type": "stream",
          "name": "stderr",
          "text": [
            "[nltk_data] Downloading package gutenberg to /root/nltk_data...\n",
            "[nltk_data]   Unzipping corpora/gutenberg.zip.\n",
            "[nltk_data] Downloading package stopwords to /root/nltk_data...\n",
            "[nltk_data]   Unzipping corpora/stopwords.zip.\n"
          ]
        },
        {
          "output_type": "execute_result",
          "data": {
            "text/plain": [
              "True"
            ]
          },
          "metadata": {},
          "execution_count": 2
        }
      ]
    },
    {
      "cell_type": "code",
      "source": [
        "print(\"::Gutenberg Books::\")\n",
        "for id in nltk.corpus.gutenberg.fileids():\n",
        "  print(id)"
      ],
      "metadata": {
        "id": "-hKBDhn1-cPa",
        "colab": {
          "base_uri": "https://localhost:8080/"
        },
        "outputId": "346dc0ac-7770-4a44-9d7d-e586739ba3ee"
      },
      "execution_count": null,
      "outputs": [
        {
          "output_type": "stream",
          "name": "stdout",
          "text": [
            "::Gutenberg Books::\n",
            "austen-emma.txt\n",
            "austen-persuasion.txt\n",
            "austen-sense.txt\n",
            "bible-kjv.txt\n",
            "blake-poems.txt\n",
            "bryant-stories.txt\n",
            "burgess-busterbrown.txt\n",
            "carroll-alice.txt\n",
            "chesterton-ball.txt\n",
            "chesterton-brown.txt\n",
            "chesterton-thursday.txt\n",
            "edgeworth-parents.txt\n",
            "melville-moby_dick.txt\n",
            "milton-paradise.txt\n",
            "shakespeare-caesar.txt\n",
            "shakespeare-hamlet.txt\n",
            "shakespeare-macbeth.txt\n",
            "whitman-leaves.txt\n"
          ]
        }
      ]
    },
    {
      "cell_type": "markdown",
      "source": [
        "\n",
        "Q. 2. Print frequency distribution of letters and words in any of the gutenberg books.\n",
        "\n",
        "[*02 Marks*]\n"
      ],
      "metadata": {
        "id": "Ee-4QDTN-9wJ"
      }
    },
    {
      "cell_type": "code",
      "source": [
        "# get raw text from \"Sense and Sensibility\" by Jane Austen or try any other book\n",
        "raw = gutenberg.raw(\"austen-sense.txt\")\n",
        "fd_letters = FreqDist(raw)\n",
        "# frequency plot for letters from SAS\n",
        "plt.figure(figsize=(10, 5)) \n",
        "fd_letters.plot(50)\n",
        "plt.show()"
      ],
      "metadata": {
        "id": "BEekZiCk_Pbs",
        "colab": {
          "base_uri": "https://localhost:8080/",
          "height": 334
        },
        "outputId": "0dc93415-d58b-4f9f-b34f-296c0245f8a8"
      },
      "execution_count": null,
      "outputs": [
        {
          "output_type": "display_data",
          "data": {
            "text/plain": [
              "<Figure size 720x360 with 1 Axes>"
            ],
            "image/png": "[encoded data removed]"
          },
          "metadata": {
            "needs_background": "light"
          }
        }
      ]
    },
    {
      "cell_type": "code",
      "source": [
        "words = gutenberg.words(\"austen-sense.txt\")\n",
        "fd_words = FreqDist(words)"
      ],
      "metadata": {
        "id": "iW31V2TC_xjm"
      },
      "execution_count": null,
      "outputs": []
    },
    {
      "cell_type": "code",
      "source": [
        "plt.figure(figsize=(10, 5)) \n",
        "fd_words.plot(50)\n",
        "plt.show()"
      ],
      "metadata": {
        "id": "q8T2W5xU__fl",
        "colab": {
          "base_uri": "https://localhost:8080/",
          "height": 370
        },
        "outputId": "1ad8ceff-53b0-4681-c45b-a814bf4f5138"
      },
      "execution_count": null,
      "outputs": [
        {
          "output_type": "display_data",
          "data": {
            "text/plain": [
              "<Figure size 720x360 with 1 Axes>"
            ],
            "image/png": "[encoded data removed]"
          },
          "metadata": {
            "needs_background": "light"
          }
        }
      ]
    },
    {
      "cell_type": "markdown",
      "source": [
        "\n",
        "Q. 3. Illustrate collocations, long words and concordance views.\n",
        "\n",
        "[*02 Marks*]\n"
      ],
      "metadata": {
        "id": "muHIAMAaA91T"
      }
    },
    {
      "cell_type": "markdown",
      "source": [
        "** 3.1 Collocations **\n",
        "\n",
        "These are interesting word pairs, usually formed by the most common bigrams.  Bigrams are collections of word pairs that occur together in the text. "
      ],
      "metadata": {
        "id": "O1Igx2RHBHej"
      }
    },
    {
      "cell_type": "code",
      "source": [
        "words = gutenberg.words(\"austen-sense.txt\")\n",
        "sas = nltk.Text(words)\n",
        "sas.collocations() "
      ],
      "metadata": {
        "id": "4qTh1ROfBWZT",
        "colab": {
          "base_uri": "https://localhost:8080/"
        },
        "outputId": "efb1331b-6bea-4d31-c0c5-83974059a9b3"
      },
      "execution_count": null,
      "outputs": [
        {
          "output_type": "stream",
          "name": "stdout",
          "text": [
            "Colonel Brandon; Sir John; Lady Middleton; Miss Dashwood; every thing;\n",
            "thousand pounds; dare say; Miss Steeles; said Elinor; Miss Steele;\n",
            "every body; John Dashwood; great deal; Harley Street; Berkeley Street;\n",
            "Miss Dashwoods; young man; Combe Magna; every day; next morning\n"
          ]
        }
      ]
    },
    {
      "cell_type": "markdown",
      "metadata": {
        "id": "RiKXfoGePiYw"
      },
      "source": [
        "** 3.2 Long words **\n",
        "\n",
        "Sometimes looking at the long words in a text can be revealing.  Let's try it on sas."
      ]
    },
    {
      "cell_type": "code",
      "metadata": {
        "id": "pHb677HkPsEN",
        "colab": {
          "base_uri": "https://localhost:8080/"
        },
        "outputId": "25a589e9-c65a-43ca-f5c6-d0e5be816143"
      },
      "source": [
        "longWords = [w for w in set(words) if len(w) > 13]\n",
        "longWords[:5]"
      ],
      "execution_count": null,
      "outputs": [
        {
          "output_type": "execute_result",
          "data": {
            "text/plain": [
              "['demonstrations',\n",
              " 'irreconcilable',\n",
              " 'unintelligible',\n",
              " 'inconsiderately',\n",
              " 'disinterestedness']"
            ]
          },
          "metadata": {},
          "execution_count": 8
        }
      ]
    },
    {
      "cell_type": "markdown",
      "metadata": {
        "id": "gd4xDzA_PXY5"
      },
      "source": [
        "** 3.3 Concordance Views **\n",
        "\n",
        "Concordance views, also called Keywords in Context (KWIC), show the specifed word with the words that surround it in text.  These views can be helpful in understaning how the words are being used in the text.\n",
        "\n",
        "\n"
      ]
    },
    {
      "cell_type": "code",
      "metadata": {
        "id": "bXbTWzdHPcHo",
        "colab": {
          "base_uri": "https://localhost:8080/"
        },
        "outputId": "32349c39-0cea-4487-e945-e9560863da1d"
      },
      "source": [
        "sas.concordance(\"unexhilarating\")\n",
        "sas.concordance(\"thoughtful\")"
      ],
      "execution_count": null,
      "outputs": [
        {
          "output_type": "stream",
          "name": "stdout",
          "text": [
            "Displaying 1 of 1 matches:\n",
            " her auditors , and was so very unexhilarating to Edward , that he very soon g\n",
            "Displaying 4 of 4 matches:\n",
            "nce , Colonel Brandon became more thoughtful and silent than he had been befor\n",
            "daughters , for they are all very thoughtful and considerate ; especially if I\n",
            "he whole evening more serious and thoughtful than usual . CHAPTER 31 From a ni\n",
            "ecollection , she grew silent and thoughtful , and turning away her face from \n"
          ]
        }
      ]
    },
    {
      "cell_type": "markdown",
      "source": [
        "\n",
        "Q. 4. Illustrate frequency dispersion of some words in different books.\n",
        "\n",
        "[*04 Marks*]\n"
      ],
      "metadata": {
        "id": "GSnD1YngCq6e"
      }
    },
    {
      "cell_type": "code",
      "source": [
        "plt.figure(figsize=(11, 4)) \n",
        "words_of_interest = [\"party\", \"fear\", \"heart\", \"great\", \"root\", \"my\"]\n",
        "sas.dispersion_plot(words_of_interest)"
      ],
      "metadata": {
        "id": "ej2RHh0wDAs-",
        "colab": {
          "base_uri": "https://localhost:8080/",
          "height": 295
        },
        "outputId": "b26e0368-3e3d-4fba-8adc-d51b8415d835"
      },
      "execution_count": null,
      "outputs": [
        {
          "output_type": "display_data",
          "data": {
            "text/plain": [
              "<Figure size 792x288 with 1 Axes>"
            ],
            "image/png": "[encoded data removed]"
          },
          "metadata": {
            "needs_background": "light"
          }
        }
      ]
    }
  ]
}